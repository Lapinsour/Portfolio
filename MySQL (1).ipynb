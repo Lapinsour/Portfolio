{
 "cells": [
  {
   "cell_type": "code",
   "execution_count": 1,
   "id": "6093996f",
   "metadata": {},
   "outputs": [],
   "source": [
    "%load_ext sql"
   ]
  },
  {
   "cell_type": "markdown",
   "id": "e67a720d",
   "metadata": {},
   "source": [
    "CREATION DES TABLES"
   ]
  },
  {
   "cell_type": "code",
   "execution_count": 2,
   "id": "38931f36",
   "metadata": {},
   "outputs": [
    {
     "data": {
      "text/html": [
       "<span style=\"None\">Connecting to &#x27;sqlite://&#x27;</span>"
      ],
      "text/plain": [
       "Connecting to 'sqlite://'"
      ]
     },
     "metadata": {},
     "output_type": "display_data"
    },
    {
     "data": {
      "text/html": [
       "<table>\n",
       "    <thead>\n",
       "        <tr>\n",
       "        </tr>\n",
       "    </thead>\n",
       "    <tbody>\n",
       "    </tbody>\n",
       "</table>"
      ],
      "text/plain": [
       "++\n",
       "||\n",
       "++\n",
       "++"
      ]
     },
     "execution_count": 2,
     "metadata": {},
     "output_type": "execute_result"
    }
   ],
   "source": [
    "%%sql sqlite://\n",
    "CREATE TABLE Pays (PaysID INTEGER NOT NULL, \n",
    "                   PaysNom VARCHAR, \n",
    "                   PRIMARY KEY (PaysID));\n",
    "\n",
    "\n",
    "CREATE TABLE Produits (ProduitID, \n",
    "                       ProduitNom, \n",
    "                       PRIMARY KEY (ProduitID));\n",
    "\n",
    "CREATE TABLE Clients (ClientID INTEGER NOT NULL, \n",
    "                      ClientNom VARCHAR,\n",
    "                      PaysID INTEGER, \n",
    "                      PRIMARY KEY (ClientID), \n",
    "                      FOREIGN KEY (PaysID) REFERENCES Pays(PaysID));  \n",
    "\n",
    "CREATE TABLE Revenus (TransactionID INTEGER NOT NULL, \n",
    "                      Année INTEGER,\n",
    "                      Montant NUMERIC, \n",
    "                      ClientID INTEGER, \n",
    "                      ProduitID INTEGER, \n",
    "                      Nombre_vendus INTEGER,\n",
    "                      PRIMARY KEY (TransactionID), \n",
    "                      FOREIGN KEY(ClientID) REFERENCES Clients(ClientID), \n",
    "                      FOREIGN KEY(ProduitID) REFERENCES Produits(ProduitID));\n",
    "\n",
    "CREATE TABLE Taxes (Montant_Taxe NUMERIC, \n",
    "                    PaysID INTEGER NOT NULL,\n",
    "                   FOREIGN KEY (PaysID) REFERENCES Pays(PaysID))\n"
   ]
  },
  {
   "cell_type": "markdown",
   "id": "dad1ac82",
   "metadata": {},
   "source": [
    "INSERTION DES VALEURS DANS LES TABLES"
   ]
  },
  {
   "cell_type": "code",
   "execution_count": 3,
   "id": "6ee88977",
   "metadata": {},
   "outputs": [
    {
     "data": {
      "text/plain": [
       "[(0, 1991, 70000, 1, 1, 4),\n",
       " (1, 1991, 10000, 10, 2, 3),\n",
       " (2, 1991, 70000, 8, 4, 1),\n",
       " (3, 1991, 60000, 2, 1, 3),\n",
       " (4, 1995, 40000, 12, 3, 5),\n",
       " (5, 1995, 90000, 2, 4, 2),\n",
       " (6, 1991, 30000, 15, 4, 4),\n",
       " (7, 1994, 70000, 16, 4, 5),\n",
       " (8, 1998, 60000, 15, 1, 2),\n",
       " (9, 1995, 60000, 10, 2, 1),\n",
       " (10, 2000, 60000, 17, 3, 1),\n",
       " (11, 1999, 60000, 6, 1, 3),\n",
       " (12, 1992, 60000, 17, 2, 1),\n",
       " (13, 1993, 60000, 8, 2, 5),\n",
       " (14, 1998, 40000, 16, 4, 5),\n",
       " (15, 1990, 30000, 15, 4, 4),\n",
       " (16, 1996, 90000, 13, 4, 3),\n",
       " (17, 1998, 40000, 1, 3, 3),\n",
       " (18, 2000, 40000, 2, 2, 4),\n",
       " (19, 1996, 70000, 7, 3, 2),\n",
       " (20, 1994, 30000, 16, 1, 1),\n",
       " (21, 1996, 30000, 5, 1, 5),\n",
       " (22, 1999, 90000, 8, 1, 2),\n",
       " (23, 1999, 20000, 2, 3, 3),\n",
       " (24, 1993, 50000, 10, 1, 3),\n",
       " (25, 1996, 70000, 16, 2, 1),\n",
       " (26, 1998, 20000, 10, 4, 3),\n",
       " (27, 1994, 90000, 2, 1, 3),\n",
       " (28, 1996, 40000, 16, 2, 3),\n",
       " (29, 1991, 10000, 12, 4, 3),\n",
       " (30, 1997, 30000, 4, 4, 3),\n",
       " (31, 1992, 40000, 10, 1, 3),\n",
       " (32, 1995, 40000, 4, 4, 4),\n",
       " (33, 1996, 90000, 10, 1, 3),\n",
       " (34, 1992, 60000, 2, 2, 4),\n",
       " (35, 1994, 30000, 5, 3, 3),\n",
       " (36, 1995, 50000, 1, 4, 1),\n",
       " (37, 1999, 30000, 3, 3, 2),\n",
       " (38, 1991, 30000, 3, 1, 3),\n",
       " (39, 1992, 80000, 1, 4, 1),\n",
       " (40, 1995, 50000, 16, 2, 2),\n",
       " (41, 1997, 90000, 5, 4, 2),\n",
       " (42, 1995, 80000, 2, 4, 3),\n",
       " (43, 1993, 90000, 13, 2, 3),\n",
       " (44, 1996, 20000, 6, 1, 2),\n",
       " (45, 1992, 80000, 18, 3, 4),\n",
       " (46, 2000, 70000, 17, 1, 2),\n",
       " (47, 2000, 50000, 17, 1, 5),\n",
       " (48, 1993, 60000, 5, 1, 3),\n",
       " (49, 1999, 50000, 6, 4, 4)]"
      ]
     },
     "execution_count": 3,
     "metadata": {},
     "output_type": "execute_result"
    }
   ],
   "source": [
    "#Générations de valeurs aléatoires pour la table Revenus\n",
    "import random\n",
    "\n",
    "Values_Revenus = []\n",
    "\n",
    "for x in range(50):\n",
    "    Année_ = random.randint(1990,2000)\n",
    "    Montant_ = random.randrange(10000,100000,10000)\n",
    "    ClientID_ = random.randint(1,18)\n",
    "    ProduitID_ = random.randint(1,4)\n",
    "    Nombre_vendus = random.randint(1,5)\n",
    "    tuple_ = (x, Année_, Montant_, ClientID_, ProduitID_, Nombre_vendus)\n",
    "    Values_Revenus.append(tuple_)\n",
    "\n",
    "Values_Revenus"
   ]
  },
  {
   "cell_type": "code",
   "execution_count": 4,
   "id": "1c743255",
   "metadata": {},
   "outputs": [
    {
     "data": {
      "text/html": [
       "<span style=\"color: green\">6 rows affected.</span>"
      ],
      "text/plain": [
       "6 rows affected."
      ]
     },
     "metadata": {},
     "output_type": "display_data"
    },
    {
     "data": {
      "text/html": [
       "<span style=\"color: green\">4 rows affected.</span>"
      ],
      "text/plain": [
       "4 rows affected."
      ]
     },
     "metadata": {},
     "output_type": "display_data"
    },
    {
     "data": {
      "text/html": [
       "<span style=\"color: green\">18 rows affected.</span>"
      ],
      "text/plain": [
       "18 rows affected."
      ]
     },
     "metadata": {},
     "output_type": "display_data"
    },
    {
     "data": {
      "text/html": [
       "<span style=\"color: green\">6 rows affected.</span>"
      ],
      "text/plain": [
       "6 rows affected."
      ]
     },
     "metadata": {},
     "output_type": "display_data"
    },
    {
     "data": {
      "text/html": [
       "<table>\n",
       "    <thead>\n",
       "        <tr>\n",
       "        </tr>\n",
       "    </thead>\n",
       "    <tbody>\n",
       "    </tbody>\n",
       "</table>"
      ],
      "text/plain": [
       "++\n",
       "||\n",
       "++\n",
       "++"
      ]
     },
     "execution_count": 4,
     "metadata": {},
     "output_type": "execute_result"
    }
   ],
   "source": [
    "%%sql sqlite://\n",
    "INSERT INTO Pays\n",
    "VALUES (1, \"France\"), (2, \"Allemagne\"), (3, \"Pologne\"), (4, \"Danemark\"), (5, \"USA\"), (6, \"Japon\");\n",
    "\n",
    "INSERT INTO Produits\n",
    "VALUES (1, \"Produit1\"), (2, \"Produit2\"), (3, \"Produit3\"), (4, \"Produit4\");\n",
    "\n",
    "INSERT INTO Clients\n",
    "VALUES (1, \"Client1\",2), (2, \"Client2\",4), (3, \"Client3\",2), (4, \"Client4\",2), (5, \"Client5\",2), (6, \"Client6\",6), \n",
    "(7, \"Client7\",5), (8, \"Client8\",1), (9, \"Client9\",5), (10, \"Client10\",1), (11, \"Client11\",3), (12, \"Client12\",3),\n",
    "(13, \"Client13\",3), (14, \"Client14\",4), (15, \"Client15\",6), (16, \"Client16\",5), (17, \"Client17\",4), (18, \"Client18\",3);\n",
    "\n",
    "INSERT INTO Taxes\n",
    "VALUES (0.15,1), (0.10,2), (0.12,3), (0.13,4), (0.09,5), (0.21,6);"
   ]
  },
  {
   "cell_type": "code",
   "execution_count": 5,
   "id": "7b5dbaaf",
   "metadata": {},
   "outputs": [
    {
     "data": {
      "text/html": [
       "<span style=\"None\">Running query in &#x27;sqlite://&#x27;</span>"
      ],
      "text/plain": [
       "Running query in 'sqlite://'"
      ]
     },
     "metadata": {},
     "output_type": "display_data"
    },
    {
     "data": {
      "text/html": [
       "<span style=\"color: green\">50 rows affected.</span>"
      ],
      "text/plain": [
       "50 rows affected."
      ]
     },
     "metadata": {},
     "output_type": "display_data"
    },
    {
     "data": {
      "text/html": [
       "<table>\n",
       "    <thead>\n",
       "        <tr>\n",
       "        </tr>\n",
       "    </thead>\n",
       "    <tbody>\n",
       "    </tbody>\n",
       "</table>"
      ],
      "text/plain": [
       "++\n",
       "||\n",
       "++\n",
       "++"
      ]
     },
     "execution_count": 5,
     "metadata": {},
     "output_type": "execute_result"
    }
   ],
   "source": [
    "%%sql\n",
    "INSERT INTO Revenus\n",
    "VALUES\n",
    "(0, 1994, 70000, 16, 1, 2),\n",
    " (1, 1990, 40000, 1, 2, 1),\n",
    " (2, 1993, 60000, 1, 1, 5),\n",
    " (3, 1990, 50000, 7, 1, 1),\n",
    " (4, 1994, 50000, 8, 2, 4),\n",
    " (5, 1991, 40000, 10, 2, 5),\n",
    " (6, 1993, 10000, 11, 4, 2),\n",
    " (7, 1996, 50000, 16, 1, 5),\n",
    " (8, 1995, 40000, 4, 2, 3),\n",
    " (9, 1996, 20000, 16, 3, 2),\n",
    " (10, 1993, 60000, 12, 2, 1),\n",
    " (11, 2000, 90000, 9, 2, 3),\n",
    " (12, 1993, 60000, 11, 1, 2),\n",
    " (13, 1990, 10000, 15, 3, 3),\n",
    " (14, 1999, 40000, 1, 3, 3),\n",
    " (15, 2000, 60000, 11, 1, 2),\n",
    " (16, 1997, 90000, 11, 1, 1),\n",
    " (17, 1999, 10000, 5, 3, 2),\n",
    " (18, 2000, 50000, 1, 3, 4),\n",
    " (19, 1996, 90000, 17, 3, 5),\n",
    " (20, 1994, 80000, 6, 1, 1),\n",
    " (21, 1998, 30000, 7, 1, 5),\n",
    " (22, 1991, 30000, 17, 4, 5),\n",
    " (23, 1993, 30000, 9, 2, 1),\n",
    " (24, 1998, 60000, 16, 1, 2),\n",
    " (25, 1997, 90000, 7, 1, 4),\n",
    " (26, 2000, 30000, 9, 3, 4),\n",
    " (27, 1997, 80000, 12, 2, 5),\n",
    " (28, 1990, 30000, 18, 4, 2),\n",
    " (29, 1998, 40000, 4, 2, 1),\n",
    " (30, 1997, 20000, 9, 2, 1),\n",
    " (31, 2000, 40000, 9, 4, 5),\n",
    " (32, 1991, 80000, 7, 4, 1),\n",
    " (33, 1990, 30000, 2, 3, 1),\n",
    " (34, 1991, 50000, 8, 2, 1),\n",
    " (35, 1994, 80000, 15, 2, 3),\n",
    " (36, 1997, 80000, 4, 2, 2),\n",
    " (37, 1991, 70000, 4, 2, 3),\n",
    " (38, 2000, 30000, 12, 1, 3),\n",
    " (39, 1999, 50000, 17, 4, 3),\n",
    " (40, 1990, 50000, 8, 1, 3),\n",
    " (41, 1996, 60000, 3, 4, 2),\n",
    " (42, 1999, 10000, 9, 3, 3),\n",
    " (43, 2000, 20000, 18, 2, 3),\n",
    " (44, 1996, 70000, 12, 1, 1),\n",
    " (45, 1992, 20000, 15, 4, 2),\n",
    " (46, 1990, 20000, 4, 2, 5),\n",
    " (47, 1998, 90000, 11, 1, 1),\n",
    " (48, 1998, 70000, 9, 2, 1),\n",
    " (49, 1997, 90000, 12, 3, 2)"
   ]
  },
  {
   "cell_type": "code",
   "execution_count": 74,
   "id": "5f906b18",
   "metadata": {},
   "outputs": [
    {
     "data": {
      "text/html": [
       "<span style=\"None\">Running query in &#x27;sqlite://&#x27;</span>"
      ],
      "text/plain": [
       "Running query in 'sqlite://'"
      ]
     },
     "metadata": {},
     "output_type": "display_data"
    },
    {
     "data": {
      "text/html": [
       "<table>\n",
       "    <thead>\n",
       "        <tr>\n",
       "            <th>ClientID</th>\n",
       "            <th>ClientNom</th>\n",
       "            <th>PaysID</th>\n",
       "        </tr>\n",
       "    </thead>\n",
       "    <tbody>\n",
       "        <tr>\n",
       "            <td>1</td>\n",
       "            <td>Client1</td>\n",
       "            <td>2</td>\n",
       "        </tr>\n",
       "        <tr>\n",
       "            <td>2</td>\n",
       "            <td>Client2</td>\n",
       "            <td>4</td>\n",
       "        </tr>\n",
       "        <tr>\n",
       "            <td>3</td>\n",
       "            <td>Client3</td>\n",
       "            <td>2</td>\n",
       "        </tr>\n",
       "        <tr>\n",
       "            <td>4</td>\n",
       "            <td>Client4</td>\n",
       "            <td>2</td>\n",
       "        </tr>\n",
       "        <tr>\n",
       "            <td>5</td>\n",
       "            <td>Client5</td>\n",
       "            <td>2</td>\n",
       "        </tr>\n",
       "        <tr>\n",
       "            <td>6</td>\n",
       "            <td>Client6</td>\n",
       "            <td>6</td>\n",
       "        </tr>\n",
       "        <tr>\n",
       "            <td>7</td>\n",
       "            <td>Client7</td>\n",
       "            <td>5</td>\n",
       "        </tr>\n",
       "        <tr>\n",
       "            <td>8</td>\n",
       "            <td>Client8</td>\n",
       "            <td>1</td>\n",
       "        </tr>\n",
       "        <tr>\n",
       "            <td>9</td>\n",
       "            <td>Client9</td>\n",
       "            <td>5</td>\n",
       "        </tr>\n",
       "        <tr>\n",
       "            <td>10</td>\n",
       "            <td>Client10</td>\n",
       "            <td>1</td>\n",
       "        </tr>\n",
       "    </tbody>\n",
       "</table>\n",
       "<span style=\"font-style:italic;text-align:center;\">Truncated to <a href=\"https://jupysql.ploomber.io/en/latest/api/configuration.html#displaylimit\">displaylimit</a> of 10.</span>"
      ],
      "text/plain": [
       "+----------+-----------+--------+\n",
       "| ClientID | ClientNom | PaysID |\n",
       "+----------+-----------+--------+\n",
       "|    1     |  Client1  |   2    |\n",
       "|    2     |  Client2  |   4    |\n",
       "|    3     |  Client3  |   2    |\n",
       "|    4     |  Client4  |   2    |\n",
       "|    5     |  Client5  |   2    |\n",
       "|    6     |  Client6  |   6    |\n",
       "|    7     |  Client7  |   5    |\n",
       "|    8     |  Client8  |   1    |\n",
       "|    9     |  Client9  |   5    |\n",
       "|    10    |  Client10 |   1    |\n",
       "+----------+-----------+--------+\n",
       "Truncated to displaylimit of 10."
      ]
     },
     "execution_count": 74,
     "metadata": {},
     "output_type": "execute_result"
    }
   ],
   "source": [
    "%%sql\n",
    "\n",
    "SELECT * FROM Clients;"
   ]
  },
  {
   "cell_type": "code",
   "execution_count": 7,
   "id": "65e514df",
   "metadata": {},
   "outputs": [
    {
     "data": {
      "text/html": [
       "<span style=\"None\">Running query in &#x27;sqlite://&#x27;</span>"
      ],
      "text/plain": [
       "Running query in 'sqlite://'"
      ]
     },
     "metadata": {},
     "output_type": "display_data"
    },
    {
     "data": {
      "text/html": [
       "<table>\n",
       "    <thead>\n",
       "        <tr>\n",
       "            <th>TransactionID</th>\n",
       "            <th>Année</th>\n",
       "            <th>Montant</th>\n",
       "            <th>ClientID</th>\n",
       "            <th>ProduitID</th>\n",
       "            <th>Nombre_vendus</th>\n",
       "        </tr>\n",
       "    </thead>\n",
       "    <tbody>\n",
       "        <tr>\n",
       "            <td>0</td>\n",
       "            <td>1994</td>\n",
       "            <td>70000</td>\n",
       "            <td>16</td>\n",
       "            <td>1</td>\n",
       "            <td>2</td>\n",
       "        </tr>\n",
       "        <tr>\n",
       "            <td>1</td>\n",
       "            <td>1990</td>\n",
       "            <td>40000</td>\n",
       "            <td>1</td>\n",
       "            <td>2</td>\n",
       "            <td>1</td>\n",
       "        </tr>\n",
       "        <tr>\n",
       "            <td>2</td>\n",
       "            <td>1993</td>\n",
       "            <td>60000</td>\n",
       "            <td>1</td>\n",
       "            <td>1</td>\n",
       "            <td>5</td>\n",
       "        </tr>\n",
       "        <tr>\n",
       "            <td>3</td>\n",
       "            <td>1990</td>\n",
       "            <td>50000</td>\n",
       "            <td>7</td>\n",
       "            <td>1</td>\n",
       "            <td>1</td>\n",
       "        </tr>\n",
       "        <tr>\n",
       "            <td>4</td>\n",
       "            <td>1994</td>\n",
       "            <td>50000</td>\n",
       "            <td>8</td>\n",
       "            <td>2</td>\n",
       "            <td>4</td>\n",
       "        </tr>\n",
       "        <tr>\n",
       "            <td>5</td>\n",
       "            <td>1991</td>\n",
       "            <td>40000</td>\n",
       "            <td>10</td>\n",
       "            <td>2</td>\n",
       "            <td>5</td>\n",
       "        </tr>\n",
       "        <tr>\n",
       "            <td>6</td>\n",
       "            <td>1993</td>\n",
       "            <td>10000</td>\n",
       "            <td>11</td>\n",
       "            <td>4</td>\n",
       "            <td>2</td>\n",
       "        </tr>\n",
       "        <tr>\n",
       "            <td>7</td>\n",
       "            <td>1996</td>\n",
       "            <td>50000</td>\n",
       "            <td>16</td>\n",
       "            <td>1</td>\n",
       "            <td>5</td>\n",
       "        </tr>\n",
       "        <tr>\n",
       "            <td>8</td>\n",
       "            <td>1995</td>\n",
       "            <td>40000</td>\n",
       "            <td>4</td>\n",
       "            <td>2</td>\n",
       "            <td>3</td>\n",
       "        </tr>\n",
       "        <tr>\n",
       "            <td>9</td>\n",
       "            <td>1996</td>\n",
       "            <td>20000</td>\n",
       "            <td>16</td>\n",
       "            <td>3</td>\n",
       "            <td>2</td>\n",
       "        </tr>\n",
       "    </tbody>\n",
       "</table>\n",
       "<span style=\"font-style:italic;text-align:center;\">Truncated to <a href=\"https://jupysql.ploomber.io/en/latest/api/configuration.html#displaylimit\">displaylimit</a> of 10.</span>"
      ],
      "text/plain": [
       "+---------------+-------+---------+----------+-----------+---------------+\n",
       "| TransactionID | Année | Montant | ClientID | ProduitID | Nombre_vendus |\n",
       "+---------------+-------+---------+----------+-----------+---------------+\n",
       "|       0       |  1994 |  70000  |    16    |     1     |       2       |\n",
       "|       1       |  1990 |  40000  |    1     |     2     |       1       |\n",
       "|       2       |  1993 |  60000  |    1     |     1     |       5       |\n",
       "|       3       |  1990 |  50000  |    7     |     1     |       1       |\n",
       "|       4       |  1994 |  50000  |    8     |     2     |       4       |\n",
       "|       5       |  1991 |  40000  |    10    |     2     |       5       |\n",
       "|       6       |  1993 |  10000  |    11    |     4     |       2       |\n",
       "|       7       |  1996 |  50000  |    16    |     1     |       5       |\n",
       "|       8       |  1995 |  40000  |    4     |     2     |       3       |\n",
       "|       9       |  1996 |  20000  |    16    |     3     |       2       |\n",
       "+---------------+-------+---------+----------+-----------+---------------+\n",
       "Truncated to displaylimit of 10."
      ]
     },
     "execution_count": 7,
     "metadata": {},
     "output_type": "execute_result"
    }
   ],
   "source": [
    "%%sql\n",
    "SELECT * FROM Revenus;"
   ]
  },
  {
   "cell_type": "code",
   "execution_count": 9,
   "id": "6dd20d6f",
   "metadata": {},
   "outputs": [
    {
     "data": {
      "text/html": [
       "<span style=\"None\">Running query in &#x27;sqlite://&#x27;</span>"
      ],
      "text/plain": [
       "Running query in 'sqlite://'"
      ]
     },
     "metadata": {},
     "output_type": "display_data"
    },
    {
     "data": {
      "text/html": [
       "<table>\n",
       "    <thead>\n",
       "        <tr>\n",
       "            <th>PaysID</th>\n",
       "            <th>PaysNom</th>\n",
       "        </tr>\n",
       "    </thead>\n",
       "    <tbody>\n",
       "        <tr>\n",
       "            <td>1</td>\n",
       "            <td>France</td>\n",
       "        </tr>\n",
       "        <tr>\n",
       "            <td>2</td>\n",
       "            <td>Allemagne</td>\n",
       "        </tr>\n",
       "        <tr>\n",
       "            <td>3</td>\n",
       "            <td>Pologne</td>\n",
       "        </tr>\n",
       "        <tr>\n",
       "            <td>4</td>\n",
       "            <td>Danemark</td>\n",
       "        </tr>\n",
       "        <tr>\n",
       "            <td>5</td>\n",
       "            <td>USA</td>\n",
       "        </tr>\n",
       "        <tr>\n",
       "            <td>6</td>\n",
       "            <td>Japon</td>\n",
       "        </tr>\n",
       "    </tbody>\n",
       "</table>"
      ],
      "text/plain": [
       "+--------+-----------+\n",
       "| PaysID |  PaysNom  |\n",
       "+--------+-----------+\n",
       "|   1    |   France  |\n",
       "|   2    | Allemagne |\n",
       "|   3    |  Pologne  |\n",
       "|   4    |  Danemark |\n",
       "|   5    |    USA    |\n",
       "|   6    |   Japon   |\n",
       "+--------+-----------+"
      ]
     },
     "execution_count": 9,
     "metadata": {},
     "output_type": "execute_result"
    }
   ],
   "source": [
    "%%sql\n",
    "SELECT * FROM Pays;"
   ]
  },
  {
   "cell_type": "code",
   "execution_count": 64,
   "id": "06e8d4cb",
   "metadata": {},
   "outputs": [
    {
     "data": {
      "text/html": [
       "<span style=\"None\">Running query in &#x27;sqlite://&#x27;</span>"
      ],
      "text/plain": [
       "Running query in 'sqlite://'"
      ]
     },
     "metadata": {},
     "output_type": "display_data"
    },
    {
     "data": {
      "text/html": [
       "<table>\n",
       "    <thead>\n",
       "        <tr>\n",
       "            <th>Montant_Taxe</th>\n",
       "            <th>PaysID</th>\n",
       "        </tr>\n",
       "    </thead>\n",
       "    <tbody>\n",
       "        <tr>\n",
       "            <td>0.15</td>\n",
       "            <td>1</td>\n",
       "        </tr>\n",
       "        <tr>\n",
       "            <td>0.1</td>\n",
       "            <td>2</td>\n",
       "        </tr>\n",
       "        <tr>\n",
       "            <td>0.12</td>\n",
       "            <td>3</td>\n",
       "        </tr>\n",
       "        <tr>\n",
       "            <td>0.13</td>\n",
       "            <td>4</td>\n",
       "        </tr>\n",
       "        <tr>\n",
       "            <td>0.09</td>\n",
       "            <td>5</td>\n",
       "        </tr>\n",
       "        <tr>\n",
       "            <td>0.21</td>\n",
       "            <td>6</td>\n",
       "        </tr>\n",
       "    </tbody>\n",
       "</table>"
      ],
      "text/plain": [
       "+--------------+--------+\n",
       "| Montant_Taxe | PaysID |\n",
       "+--------------+--------+\n",
       "|     0.15     |   1    |\n",
       "|     0.1      |   2    |\n",
       "|     0.12     |   3    |\n",
       "|     0.13     |   4    |\n",
       "|     0.09     |   5    |\n",
       "|     0.21     |   6    |\n",
       "+--------------+--------+"
      ]
     },
     "execution_count": 64,
     "metadata": {},
     "output_type": "execute_result"
    }
   ],
   "source": [
    "%%sql\n",
    "SELECT * FROM Taxes;"
   ]
  },
  {
   "cell_type": "markdown",
   "id": "2e85fffa",
   "metadata": {},
   "source": [
    "COMBIEN CHAQUE PAYS COMPTE-T-IL DE CLIENTS ?\n"
   ]
  },
  {
   "cell_type": "code",
   "execution_count": 6,
   "id": "f65b0ad9",
   "metadata": {},
   "outputs": [
    {
     "data": {
      "text/html": [
       "<table>\n",
       "    <thead>\n",
       "        <tr>\n",
       "            <th>Nombre de clients</th>\n",
       "            <th>Pays</th>\n",
       "        </tr>\n",
       "    </thead>\n",
       "    <tbody>\n",
       "        <tr>\n",
       "            <td>4</td>\n",
       "            <td>Pologne</td>\n",
       "        </tr>\n",
       "        <tr>\n",
       "            <td>4</td>\n",
       "            <td>Allemagne</td>\n",
       "        </tr>\n",
       "        <tr>\n",
       "            <td>3</td>\n",
       "            <td>USA</td>\n",
       "        </tr>\n",
       "        <tr>\n",
       "            <td>3</td>\n",
       "            <td>Danemark</td>\n",
       "        </tr>\n",
       "        <tr>\n",
       "            <td>2</td>\n",
       "            <td>Japon</td>\n",
       "        </tr>\n",
       "        <tr>\n",
       "            <td>2</td>\n",
       "            <td>France</td>\n",
       "        </tr>\n",
       "    </tbody>\n",
       "</table>"
      ],
      "text/plain": [
       "+-------------------+-----------+\n",
       "| Nombre de clients |    Pays   |\n",
       "+-------------------+-----------+\n",
       "|         4         |  Pologne  |\n",
       "|         4         | Allemagne |\n",
       "|         3         |    USA    |\n",
       "|         3         |  Danemark |\n",
       "|         2         |   Japon   |\n",
       "|         2         |   France  |\n",
       "+-------------------+-----------+"
      ]
     },
     "execution_count": 6,
     "metadata": {},
     "output_type": "execute_result"
    }
   ],
   "source": [
    "%%sql sqlite://\n",
    "\n",
    "SELECT COUNT(Clients.PaysID) AS \"Nombre de clients\", Pays.PaysNom AS \"Pays\"\n",
    "FROM Clients\n",
    "INNER JOIN Pays ON Clients.PaysID = Pays.PaysID\n",
    "GROUP BY Clients.PaysID\n",
    "ORDER BY \"Nombre de clients\" DESC;"
   ]
  },
  {
   "cell_type": "markdown",
   "id": "4d6db840",
   "metadata": {},
   "source": [
    "QUEL MONTANT DE TRANSACTIONS CHAQUE CLIENT REPRESENTE-T-IL PAR AN ? NE RETOURNER QUE LES CLIENTS REPRESENTANT 50 000 € OU PLUS DE TRANSACTIONS ANNUELLES.\n"
   ]
  },
  {
   "cell_type": "code",
   "execution_count": 23,
   "id": "d88fe67a",
   "metadata": {},
   "outputs": [
    {
     "data": {
      "text/html": [
       "<table>\n",
       "    <thead>\n",
       "        <tr>\n",
       "            <th>Année</th>\n",
       "            <th>Client</th>\n",
       "            <th>Transactions Totales</th>\n",
       "        </tr>\n",
       "    </thead>\n",
       "    <tbody>\n",
       "        <tr>\n",
       "            <td>1990</td>\n",
       "            <td>Client8</td>\n",
       "            <td>50000</td>\n",
       "        </tr>\n",
       "        <tr>\n",
       "            <td>1990</td>\n",
       "            <td>Client7</td>\n",
       "            <td>50000</td>\n",
       "        </tr>\n",
       "        <tr>\n",
       "            <td>1991</td>\n",
       "            <td>Client7</td>\n",
       "            <td>80000</td>\n",
       "        </tr>\n",
       "        <tr>\n",
       "            <td>1991</td>\n",
       "            <td>Client4</td>\n",
       "            <td>70000</td>\n",
       "        </tr>\n",
       "        <tr>\n",
       "            <td>1991</td>\n",
       "            <td>Client8</td>\n",
       "            <td>50000</td>\n",
       "        </tr>\n",
       "        <tr>\n",
       "            <td>1993</td>\n",
       "            <td>Client11</td>\n",
       "            <td>70000</td>\n",
       "        </tr>\n",
       "        <tr>\n",
       "            <td>1993</td>\n",
       "            <td>Client12</td>\n",
       "            <td>60000</td>\n",
       "        </tr>\n",
       "        <tr>\n",
       "            <td>1993</td>\n",
       "            <td>Client1</td>\n",
       "            <td>60000</td>\n",
       "        </tr>\n",
       "        <tr>\n",
       "            <td>1994</td>\n",
       "            <td>Client6</td>\n",
       "            <td>80000</td>\n",
       "        </tr>\n",
       "        <tr>\n",
       "            <td>1994</td>\n",
       "            <td>Client15</td>\n",
       "            <td>80000</td>\n",
       "        </tr>\n",
       "    </tbody>\n",
       "</table>\n",
       "<span style=\"font-style:italic;text-align:center;\">Truncated to <a href=\"https://jupysql.ploomber.io/en/latest/api/configuration.html#displaylimit\">displaylimit</a> of 10.</span>"
      ],
      "text/plain": [
       "+-------+----------+----------------------+\n",
       "| Année |  Client  | Transactions Totales |\n",
       "+-------+----------+----------------------+\n",
       "|  1990 | Client8  |        50000         |\n",
       "|  1990 | Client7  |        50000         |\n",
       "|  1991 | Client7  |        80000         |\n",
       "|  1991 | Client4  |        70000         |\n",
       "|  1991 | Client8  |        50000         |\n",
       "|  1993 | Client11 |        70000         |\n",
       "|  1993 | Client12 |        60000         |\n",
       "|  1993 | Client1  |        60000         |\n",
       "|  1994 | Client6  |        80000         |\n",
       "|  1994 | Client15 |        80000         |\n",
       "+-------+----------+----------------------+\n",
       "Truncated to displaylimit of 10."
      ]
     },
     "execution_count": 23,
     "metadata": {},
     "output_type": "execute_result"
    }
   ],
   "source": [
    "%%sql sqlite://\n",
    "\n",
    "SELECT Revenus.Année AS Année, Clients.ClientNom AS Client, SUM(Revenus.Montant) AS \"Transactions Totales\"\n",
    "FROM Revenus\n",
    "JOIN Clients ON Revenus.ClientID = Clients.ClientID\n",
    "GROUP BY Année, Client\n",
    "HAVING SUM(Revenus.Montant) >= 50000\n",
    "ORDER BY Année ASC, \"Transactions Totales\" DESC;"
   ]
  },
  {
   "cell_type": "markdown",
   "id": "6f5b60fb",
   "metadata": {},
   "source": [
    "MODIFICATION DE LA TABLE PRODUITS"
   ]
  },
  {
   "cell_type": "code",
   "execution_count": 11,
   "id": "add84bbb",
   "metadata": {},
   "outputs": [
    {
     "data": {
      "text/html": [
       "<table>\n",
       "    <thead>\n",
       "        <tr>\n",
       "            <th>ProduitID</th>\n",
       "            <th>ProduitNom</th>\n",
       "        </tr>\n",
       "    </thead>\n",
       "    <tbody>\n",
       "        <tr>\n",
       "            <td>1</td>\n",
       "            <td>Produit1</td>\n",
       "        </tr>\n",
       "        <tr>\n",
       "            <td>2</td>\n",
       "            <td>Produit2</td>\n",
       "        </tr>\n",
       "        <tr>\n",
       "            <td>3</td>\n",
       "            <td>Produit3</td>\n",
       "        </tr>\n",
       "        <tr>\n",
       "            <td>4</td>\n",
       "            <td>Produit4</td>\n",
       "        </tr>\n",
       "    </tbody>\n",
       "</table>"
      ],
      "text/plain": [
       "+-----------+------------+\n",
       "| ProduitID | ProduitNom |\n",
       "+-----------+------------+\n",
       "|     1     |  Produit1  |\n",
       "|     2     |  Produit2  |\n",
       "|     3     |  Produit3  |\n",
       "|     4     |  Produit4  |\n",
       "+-----------+------------+"
      ]
     },
     "execution_count": 11,
     "metadata": {},
     "output_type": "execute_result"
    }
   ],
   "source": [
    "%%sql sqlite://\n",
    "SELECT * FROM Produits"
   ]
  },
  {
   "cell_type": "code",
   "execution_count": 12,
   "id": "4382dc7b",
   "metadata": {},
   "outputs": [
    {
     "data": {
      "text/html": [
       "<table>\n",
       "    <thead>\n",
       "        <tr>\n",
       "        </tr>\n",
       "    </thead>\n",
       "    <tbody>\n",
       "    </tbody>\n",
       "</table>"
      ],
      "text/plain": [
       "++\n",
       "||\n",
       "++\n",
       "++"
      ]
     },
     "execution_count": 12,
     "metadata": {},
     "output_type": "execute_result"
    }
   ],
   "source": [
    "%%sql sqlite://\n",
    "ALTER TABLE Produits\n",
    "ADD \"Coût unitaire\" NUMERIC;"
   ]
  },
  {
   "cell_type": "code",
   "execution_count": 15,
   "id": "4ef99793",
   "metadata": {},
   "outputs": [
    {
     "data": {
      "text/html": [
       "<span style=\"color: green\">4 rows affected.</span>"
      ],
      "text/plain": [
       "4 rows affected."
      ]
     },
     "metadata": {},
     "output_type": "display_data"
    },
    {
     "data": {
      "text/html": [
       "<table>\n",
       "    <thead>\n",
       "        <tr>\n",
       "        </tr>\n",
       "    </thead>\n",
       "    <tbody>\n",
       "    </tbody>\n",
       "</table>"
      ],
      "text/plain": [
       "++\n",
       "||\n",
       "++\n",
       "++"
      ]
     },
     "execution_count": 15,
     "metadata": {},
     "output_type": "execute_result"
    }
   ],
   "source": [
    "%%sql sqlite://\n",
    "UPDATE Produits\n",
    "SET \"Coût unitaire\" = (\n",
    "  CASE \n",
    "    WHEN ProduitNom=\"Produit1\" THEN 1000\n",
    "    WHEN ProduitNom=\"Produit2\" THEN 1000\n",
    "    WHEN ProduitNom=\"Produit3\" THEN 10000\n",
    "    WHEN ProduitNom=\"Produit4\" THEN 10000\n",
    "END \n",
    ")\n"
   ]
  },
  {
   "cell_type": "code",
   "execution_count": 16,
   "id": "7c048434",
   "metadata": {},
   "outputs": [
    {
     "data": {
      "text/html": [
       "<table>\n",
       "    <thead>\n",
       "        <tr>\n",
       "            <th>ProduitID</th>\n",
       "            <th>ProduitNom</th>\n",
       "            <th>Coût unitaire</th>\n",
       "        </tr>\n",
       "    </thead>\n",
       "    <tbody>\n",
       "        <tr>\n",
       "            <td>1</td>\n",
       "            <td>Produit1</td>\n",
       "            <td>1000</td>\n",
       "        </tr>\n",
       "        <tr>\n",
       "            <td>2</td>\n",
       "            <td>Produit2</td>\n",
       "            <td>1000</td>\n",
       "        </tr>\n",
       "        <tr>\n",
       "            <td>3</td>\n",
       "            <td>Produit3</td>\n",
       "            <td>10000</td>\n",
       "        </tr>\n",
       "        <tr>\n",
       "            <td>4</td>\n",
       "            <td>Produit4</td>\n",
       "            <td>10000</td>\n",
       "        </tr>\n",
       "    </tbody>\n",
       "</table>"
      ],
      "text/plain": [
       "+-----------+------------+---------------+\n",
       "| ProduitID | ProduitNom | Coût unitaire |\n",
       "+-----------+------------+---------------+\n",
       "|     1     |  Produit1  |      1000     |\n",
       "|     2     |  Produit2  |      1000     |\n",
       "|     3     |  Produit3  |     10000     |\n",
       "|     4     |  Produit4  |     10000     |\n",
       "+-----------+------------+---------------+"
      ]
     },
     "execution_count": 16,
     "metadata": {},
     "output_type": "execute_result"
    }
   ],
   "source": [
    "%%sql sqlite://\n",
    "SELECT * FROM Produits"
   ]
  },
  {
   "cell_type": "markdown",
   "id": "f98d38a8",
   "metadata": {},
   "source": [
    "QUEL BENEFICE L'ENTREPRISE A-T-ELLE RECOLTE DE CHAQUE PRODUIT ? INTEGRER LES TAXES. "
   ]
  },
  {
   "cell_type": "code",
   "execution_count": 75,
   "id": "14a91713",
   "metadata": {},
   "outputs": [
    {
     "data": {
      "text/html": [
       "<table>\n",
       "    <thead>\n",
       "        <tr>\n",
       "            <th>Produit</th>\n",
       "            <th>Bénéfice total</th>\n",
       "        </tr>\n",
       "    </thead>\n",
       "    <tbody>\n",
       "        <tr>\n",
       "            <td>Produit1</td>\n",
       "            <td>792200</td>\n",
       "        </tr>\n",
       "        <tr>\n",
       "            <td>Produit2</td>\n",
       "            <td>732100</td>\n",
       "        </tr>\n",
       "        <tr>\n",
       "            <td>Produit3</td>\n",
       "            <td>46100</td>\n",
       "        </tr>\n",
       "        <tr>\n",
       "            <td>Produit4</td>\n",
       "            <td>63800</td>\n",
       "        </tr>\n",
       "    </tbody>\n",
       "</table>"
      ],
      "text/plain": [
       "+----------+----------------+\n",
       "| Produit  | Bénéfice total |\n",
       "+----------+----------------+\n",
       "| Produit1 |     792200     |\n",
       "| Produit2 |     732100     |\n",
       "| Produit3 |     46100      |\n",
       "| Produit4 |     63800      |\n",
       "+----------+----------------+"
      ]
     },
     "execution_count": 75,
     "metadata": {},
     "output_type": "execute_result"
    }
   ],
   "source": [
    "%%sql sqlite://\n",
    "\n",
    "SELECT Produits.ProduitNom AS \"Produit\", \n",
    "CAST(SUM((Revenus.Montant - (Produits.\"Coût unitaire\"*Revenus.Nombre_vendus) - Revenus.Montant*Taxes.Montant_Taxe)) AS INT) \n",
    "AS \"Bénéfice total\"\n",
    "FROM Produits\n",
    "INNER JOIN Revenus ON Produits.ProduitID = Revenus.ProduitID\n",
    "INNER JOIN Clients ON Revenus.ClientID = Clients.ClientID\n",
    "INNER JOIN Taxes ON Clients.PaysID = Taxes.PaysID\n",
    "GROUP BY \"Produit\"\n",
    "ORDER BY \"Produit\"\n",
    ";\n",
    "\n",
    "\n"
   ]
  },
  {
   "cell_type": "markdown",
   "id": "b10beed8",
   "metadata": {},
   "source": [
    "ASSIGNER A CHAQUE PAYS UN RANG EN POUR L'ANNEE 1991 EN FONCTION DU MONTANT DE TRANSACTIONS EFFECTUEES DANS CE PAYS."
   ]
  },
  {
   "cell_type": "code",
   "execution_count": 76,
   "id": "89707603",
   "metadata": {},
   "outputs": [
    {
     "data": {
      "text/html": [
       "<table>\n",
       "    <thead>\n",
       "        <tr>\n",
       "            <th>Classement</th>\n",
       "            <th>Pays</th>\n",
       "            <th>Montant</th>\n",
       "        </tr>\n",
       "    </thead>\n",
       "    <tbody>\n",
       "        <tr>\n",
       "            <td>1</td>\n",
       "            <td>USA</td>\n",
       "            <td>80000</td>\n",
       "        </tr>\n",
       "        <tr>\n",
       "            <td>2</td>\n",
       "            <td>Allemagne</td>\n",
       "            <td>70000</td>\n",
       "        </tr>\n",
       "        <tr>\n",
       "            <td>3</td>\n",
       "            <td>France</td>\n",
       "            <td>50000</td>\n",
       "        </tr>\n",
       "        <tr>\n",
       "            <td>4</td>\n",
       "            <td>France</td>\n",
       "            <td>40000</td>\n",
       "        </tr>\n",
       "        <tr>\n",
       "            <td>5</td>\n",
       "            <td>Danemark</td>\n",
       "            <td>30000</td>\n",
       "        </tr>\n",
       "    </tbody>\n",
       "</table>"
      ],
      "text/plain": [
       "+------------+-----------+---------+\n",
       "| Classement |    Pays   | Montant |\n",
       "+------------+-----------+---------+\n",
       "|     1      |    USA    |  80000  |\n",
       "|     2      | Allemagne |  70000  |\n",
       "|     3      |   France  |  50000  |\n",
       "|     4      |   France  |  40000  |\n",
       "|     5      |  Danemark |  30000  |\n",
       "+------------+-----------+---------+"
      ]
     },
     "execution_count": 76,
     "metadata": {},
     "output_type": "execute_result"
    }
   ],
   "source": [
    "%%sql sqlite://\n",
    "\n",
    "SELECT ROW_NUMBER() OVER (ORDER BY Montant DESC) AS Classement\n",
    ", Pays.PaysNom AS Pays\n",
    ", Montant\n",
    "FROM Revenus\n",
    "INNER JOIN Clients ON Revenus.ClientID = Clients.ClientID\n",
    "INNER JOIN Pays ON Clients.PaysID = Pays.PaysID\n",
    "WHERE Année = 1991;\n"
   ]
  },
  {
   "cell_type": "code",
   "execution_count": null,
   "id": "0961a72c",
   "metadata": {},
   "outputs": [],
   "source": []
  }
 ],
 "metadata": {
  "kernelspec": {
   "display_name": "Python 3 (ipykernel)",
   "language": "python",
   "name": "python3"
  },
  "language_info": {
   "codemirror_mode": {
    "name": "ipython",
    "version": 3
   },
   "file_extension": ".py",
   "mimetype": "text/x-python",
   "name": "python",
   "nbconvert_exporter": "python",
   "pygments_lexer": "ipython3",
   "version": "3.9.13"
  }
 },
 "nbformat": 4,
 "nbformat_minor": 5
}
