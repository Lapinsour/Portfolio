{
 "cells": [
  {
   "cell_type": "code",
   "execution_count": 1,
   "id": "6093996f",
   "metadata": {},
   "outputs": [],
   "source": [
    "%load_ext sql"
   ]
  },
  {
   "cell_type": "markdown",
   "id": "a4dbe1db",
   "metadata": {},
   "source": [
    "CREATION DES TABLES"
   ]
  },
  {
   "cell_type": "code",
   "execution_count": 3,
   "id": "38931f36",
   "metadata": {},
   "outputs": [
    {
     "data": {
      "text/html": [
       "<table>\n",
       "    <thead>\n",
       "        <tr>\n",
       "        </tr>\n",
       "    </thead>\n",
       "    <tbody>\n",
       "    </tbody>\n",
       "</table>"
      ],
      "text/plain": [
       "++\n",
       "||\n",
       "++\n",
       "++"
      ]
     },
     "execution_count": 3,
     "metadata": {},
     "output_type": "execute_result"
    }
   ],
   "source": [
    "%%sql sqlite://\n",
    "CREATE TABLE Pays (PaysID INTEGER NOT NULL, \n",
    "                   PaysNom VARCHAR, \n",
    "                   PRIMARY KEY (PaysID));\n",
    "\n",
    "\n",
    "CREATE TABLE Produits (ProduitID, \n",
    "                       ProduitNom, \n",
    "                       PRIMARY KEY (ProduitID));\n",
    "\n",
    "CREATE TABLE Clients (ClientID INTEGER NOT NULL, \n",
    "                      ClientNom VARCHAR,\n",
    "                      PaysID INTEGER, \n",
    "                      PRIMARY KEY (ClientID), \n",
    "                      FOREIGN KEY (PaysID) REFERENCES Pays(PaysID));  \n",
    "\n",
    "CREATE TABLE Revenus (TransactionID INTEGER NOT NULL, \n",
    "                      Année INTEGER,\n",
    "                      Montant NUMERIC, \n",
    "                      ClientID INTEGER, \n",
    "                      ProduitID INTEGER, \n",
    "                      Nombre_vendus INTEGER,\n",
    "                      PRIMARY KEY (TransactionID), \n",
    "                      FOREIGN KEY(ClientID) REFERENCES Clients(ClientID), \n",
    "                      FOREIGN KEY(ProduitID) REFERENCES Produits(ProduitID));\n",
    "\n",
    "CREATE TABLE Taxes (Montant_Taxe NUMERIC, \n",
    "                    PaysID INTEGER NOT NULL,\n",
    "                   FOREIGN KEY (PaysID) REFERENCES Pays(PaysID))\n"
   ]
  },
  {
   "cell_type": "markdown",
   "id": "8b104265",
   "metadata": {},
   "source": [
    "INSERTION DES VALEURS DANS LES TABLES"
   ]
  },
  {
   "cell_type": "code",
   "execution_count": 7,
   "id": "6ee88977",
   "metadata": {},
   "outputs": [
    {
     "data": {
      "text/plain": [
       "[(0, 1994, 70000, 16, 1, 2),\n",
       " (1, 1990, 40000, 1, 2, 1),\n",
       " (2, 1993, 60000, 1, 1, 5),\n",
       " (3, 1990, 50000, 7, 1, 1),\n",
       " (4, 1994, 50000, 8, 2, 4),\n",
       " (5, 1991, 40000, 10, 2, 5),\n",
       " (6, 1993, 10000, 11, 4, 2),\n",
       " (7, 1996, 50000, 16, 1, 5),\n",
       " (8, 1995, 40000, 4, 2, 3),\n",
       " (9, 1996, 20000, 16, 3, 2),\n",
       " (10, 1993, 60000, 12, 2, 1),\n",
       " (11, 2000, 90000, 9, 2, 3),\n",
       " (12, 1993, 60000, 11, 1, 2),\n",
       " (13, 1990, 10000, 15, 3, 3),\n",
       " (14, 1999, 40000, 1, 3, 3),\n",
       " (15, 2000, 60000, 11, 1, 2),\n",
       " (16, 1997, 90000, 11, 1, 1),\n",
       " (17, 1999, 10000, 5, 3, 2),\n",
       " (18, 2000, 50000, 1, 3, 4),\n",
       " (19, 1996, 90000, 17, 3, 5),\n",
       " (20, 1994, 80000, 6, 1, 1),\n",
       " (21, 1998, 30000, 7, 1, 5),\n",
       " (22, 1991, 30000, 17, 4, 5),\n",
       " (23, 1993, 30000, 9, 2, 1),\n",
       " (24, 1998, 60000, 16, 1, 2),\n",
       " (25, 1997, 90000, 7, 1, 4),\n",
       " (26, 2000, 30000, 9, 3, 4),\n",
       " (27, 1997, 80000, 12, 2, 5),\n",
       " (28, 1990, 30000, 18, 4, 2),\n",
       " (29, 1998, 40000, 4, 2, 1),\n",
       " (30, 1997, 20000, 9, 2, 1),\n",
       " (31, 2000, 40000, 9, 4, 5),\n",
       " (32, 1991, 80000, 7, 4, 1),\n",
       " (33, 1990, 30000, 2, 3, 1),\n",
       " (34, 1991, 50000, 8, 2, 1),\n",
       " (35, 1994, 80000, 15, 2, 3),\n",
       " (36, 1997, 80000, 4, 2, 2),\n",
       " (37, 1991, 70000, 4, 2, 3),\n",
       " (38, 2000, 30000, 12, 1, 3),\n",
       " (39, 1999, 50000, 17, 4, 3),\n",
       " (40, 1990, 50000, 8, 1, 3),\n",
       " (41, 1996, 60000, 3, 4, 2),\n",
       " (42, 1999, 10000, 9, 3, 3),\n",
       " (43, 2000, 20000, 18, 2, 3),\n",
       " (44, 1996, 70000, 12, 1, 1),\n",
       " (45, 1992, 20000, 15, 4, 2),\n",
       " (46, 1990, 20000, 4, 2, 5),\n",
       " (47, 1998, 90000, 11, 1, 1),\n",
       " (48, 1998, 70000, 9, 2, 1),\n",
       " (49, 1997, 90000, 12, 3, 2)]"
      ]
     },
     "execution_count": 7,
     "metadata": {},
     "output_type": "execute_result"
    }
   ],
   "source": [
    "#Générations de valeurs aléatoires pour la table Revenus\n",
    "import random\n",
    "\n",
    "Values_Revenus = []\n",
    "\n",
    "for x in range(50):\n",
    "    Année_ = random.randint(1990,2000)\n",
    "    Montant_ = random.randrange(10000,100000,10000)\n",
    "    ClientID_ = random.randint(1,18)\n",
    "    ProduitID_ = random.randint(1,4)\n",
    "    Nombre_vendus = random.randint(1,5)\n",
    "    tuple_ = (x, Année_, Montant_, ClientID_, ProduitID_, Nombre_vendus)\n",
    "    Values_Revenus.append(tuple_)\n",
    "\n",
    "Values_Revenus"
   ]
  },
  {
   "cell_type": "code",
   "execution_count": 5,
   "id": "1c743255",
   "metadata": {},
   "outputs": [
    {
     "data": {
      "text/html": [
       "<span style=\"color: green\">6 rows affected.</span>"
      ],
      "text/plain": [
       "6 rows affected."
      ]
     },
     "metadata": {},
     "output_type": "display_data"
    },
    {
     "data": {
      "text/html": [
       "<span style=\"color: green\">4 rows affected.</span>"
      ],
      "text/plain": [
       "4 rows affected."
      ]
     },
     "metadata": {},
     "output_type": "display_data"
    },
    {
     "data": {
      "text/html": [
       "<span style=\"color: green\">18 rows affected.</span>"
      ],
      "text/plain": [
       "18 rows affected."
      ]
     },
     "metadata": {},
     "output_type": "display_data"
    },
    {
     "data": {
      "text/html": [
       "<span style=\"color: green\">6 rows affected.</span>"
      ],
      "text/plain": [
       "6 rows affected."
      ]
     },
     "metadata": {},
     "output_type": "display_data"
    },
    {
     "data": {
      "text/html": [
       "<table>\n",
       "    <thead>\n",
       "        <tr>\n",
       "        </tr>\n",
       "    </thead>\n",
       "    <tbody>\n",
       "    </tbody>\n",
       "</table>"
      ],
      "text/plain": [
       "++\n",
       "||\n",
       "++\n",
       "++"
      ]
     },
     "execution_count": 5,
     "metadata": {},
     "output_type": "execute_result"
    }
   ],
   "source": [
    "%%sql sqlite://\n",
    "INSERT INTO Pays\n",
    "VALUES (1, \"France\"), (2, \"Allemagne\"), (3, \"Pologne\"), (4, \"Danemark\"), (5, \"USA\"), (6, \"Japon\");\n",
    "\n",
    "INSERT INTO Produits\n",
    "VALUES (1, \"Produit1\"), (2, \"Produit2\"), (3, \"Produit3\"), (4, \"Produit4\");\n",
    "\n",
    "INSERT INTO Clients\n",
    "VALUES (1, \"Client1\",2), (2, \"Client2\",4), (3, \"Client3\",2), (4, \"Client4\",2), (5, \"Client5\",2), (6, \"Client6\",6), \n",
    "(7, \"Client7\",5), (8, \"Client8\",1), (9, \"Client9\",5), (10, \"Client10\",1), (11, \"Client11\",3), (12, \"Client12\",3),\n",
    "(13, \"Client13\",3), (14, \"Client14\",4), (15, \"Client15\",6), (16, \"Client16\",5), (17, \"Client17\",4), (18, \"Client18\",3);\n",
    "\n",
    "INSERT INTO Taxes\n",
    "VALUES (0.15,1), (0.10,2), (0.12,3), (0.13,4), (0.09,5), (0.21,6);"
   ]
  },
  {
   "cell_type": "code",
   "execution_count": 8,
   "id": "7b5dbaaf",
   "metadata": {},
   "outputs": [
    {
     "data": {
      "text/html": [
       "<span style=\"None\">Running query in &#x27;sqlite://&#x27;</span>"
      ],
      "text/plain": [
       "Running query in 'sqlite://'"
      ]
     },
     "metadata": {},
     "output_type": "display_data"
    },
    {
     "data": {
      "text/html": [
       "<span style=\"color: green\">50 rows affected.</span>"
      ],
      "text/plain": [
       "50 rows affected."
      ]
     },
     "metadata": {},
     "output_type": "display_data"
    },
    {
     "data": {
      "text/html": [
       "<table>\n",
       "    <thead>\n",
       "        <tr>\n",
       "        </tr>\n",
       "    </thead>\n",
       "    <tbody>\n",
       "    </tbody>\n",
       "</table>"
      ],
      "text/plain": [
       "++\n",
       "||\n",
       "++\n",
       "++"
      ]
     },
     "execution_count": 8,
     "metadata": {},
     "output_type": "execute_result"
    }
   ],
   "source": [
    "%%sql\n",
    "INSERT INTO Revenus\n",
    "VALUES\n",
    "(0, 1994, 70000, 16, 1, 2),\n",
    " (1, 1990, 40000, 1, 2, 1),\n",
    " (2, 1993, 60000, 1, 1, 5),\n",
    " (3, 1990, 50000, 7, 1, 1),\n",
    " (4, 1994, 50000, 8, 2, 4),\n",
    " (5, 1991, 40000, 10, 2, 5),\n",
    " (6, 1993, 10000, 11, 4, 2),\n",
    " (7, 1996, 50000, 16, 1, 5),\n",
    " (8, 1995, 40000, 4, 2, 3),\n",
    " (9, 1996, 20000, 16, 3, 2),\n",
    " (10, 1993, 60000, 12, 2, 1),\n",
    " (11, 2000, 90000, 9, 2, 3),\n",
    " (12, 1993, 60000, 11, 1, 2),\n",
    " (13, 1990, 10000, 15, 3, 3),\n",
    " (14, 1999, 40000, 1, 3, 3),\n",
    " (15, 2000, 60000, 11, 1, 2),\n",
    " (16, 1997, 90000, 11, 1, 1),\n",
    " (17, 1999, 10000, 5, 3, 2),\n",
    " (18, 2000, 50000, 1, 3, 4),\n",
    " (19, 1996, 90000, 17, 3, 5),\n",
    " (20, 1994, 80000, 6, 1, 1),\n",
    " (21, 1998, 30000, 7, 1, 5),\n",
    " (22, 1991, 30000, 17, 4, 5),\n",
    " (23, 1993, 30000, 9, 2, 1),\n",
    " (24, 1998, 60000, 16, 1, 2),\n",
    " (25, 1997, 90000, 7, 1, 4),\n",
    " (26, 2000, 30000, 9, 3, 4),\n",
    " (27, 1997, 80000, 12, 2, 5),\n",
    " (28, 1990, 30000, 18, 4, 2),\n",
    " (29, 1998, 40000, 4, 2, 1),\n",
    " (30, 1997, 20000, 9, 2, 1),\n",
    " (31, 2000, 40000, 9, 4, 5),\n",
    " (32, 1991, 80000, 7, 4, 1),\n",
    " (33, 1990, 30000, 2, 3, 1),\n",
    " (34, 1991, 50000, 8, 2, 1),\n",
    " (35, 1994, 80000, 15, 2, 3),\n",
    " (36, 1997, 80000, 4, 2, 2),\n",
    " (37, 1991, 70000, 4, 2, 3),\n",
    " (38, 2000, 30000, 12, 1, 3),\n",
    " (39, 1999, 50000, 17, 4, 3),\n",
    " (40, 1990, 50000, 8, 1, 3),\n",
    " (41, 1996, 60000, 3, 4, 2),\n",
    " (42, 1999, 10000, 9, 3, 3),\n",
    " (43, 2000, 20000, 18, 2, 3),\n",
    " (44, 1996, 70000, 12, 1, 1),\n",
    " (45, 1992, 20000, 15, 4, 2),\n",
    " (46, 1990, 20000, 4, 2, 5),\n",
    " (47, 1998, 90000, 11, 1, 1),\n",
    " (48, 1998, 70000, 9, 2, 1),\n",
    " (49, 1997, 90000, 12, 3, 2)"
   ]
  },
  {
   "cell_type": "markdown",
   "id": "2e85fffa",
   "metadata": {},
   "source": [
    "COMBIEN CHAQUE PAYS COMPTE-T-IL DE CLIENTS ?\n"
   ]
  },
  {
   "cell_type": "code",
   "execution_count": 9,
   "id": "f65b0ad9",
   "metadata": {},
   "outputs": [
    {
     "data": {
      "text/html": [
       "<table>\n",
       "    <thead>\n",
       "        <tr>\n",
       "            <th>Nombre de clients</th>\n",
       "            <th>Pays</th>\n",
       "        </tr>\n",
       "    </thead>\n",
       "    <tbody>\n",
       "        <tr>\n",
       "            <td>4</td>\n",
       "            <td>Pologne</td>\n",
       "        </tr>\n",
       "        <tr>\n",
       "            <td>4</td>\n",
       "            <td>Allemagne</td>\n",
       "        </tr>\n",
       "        <tr>\n",
       "            <td>3</td>\n",
       "            <td>USA</td>\n",
       "        </tr>\n",
       "        <tr>\n",
       "            <td>3</td>\n",
       "            <td>Danemark</td>\n",
       "        </tr>\n",
       "        <tr>\n",
       "            <td>2</td>\n",
       "            <td>Japon</td>\n",
       "        </tr>\n",
       "        <tr>\n",
       "            <td>2</td>\n",
       "            <td>France</td>\n",
       "        </tr>\n",
       "    </tbody>\n",
       "</table>"
      ],
      "text/plain": [
       "+-------------------+-----------+\n",
       "| Nombre de clients |    Pays   |\n",
       "+-------------------+-----------+\n",
       "|         4         |  Pologne  |\n",
       "|         4         | Allemagne |\n",
       "|         3         |    USA    |\n",
       "|         3         |  Danemark |\n",
       "|         2         |   Japon   |\n",
       "|         2         |   France  |\n",
       "+-------------------+-----------+"
      ]
     },
     "execution_count": 9,
     "metadata": {},
     "output_type": "execute_result"
    }
   ],
   "source": [
    "%%sql sqlite://\n",
    "\n",
    "SELECT COUNT(Clients.PaysID) AS \"Nombre de clients\", Pays.PaysNom AS \"Pays\"\n",
    "FROM Clients\n",
    "INNER JOIN Pays ON Clients.PaysID = Pays.PaysID\n",
    "GROUP BY Clients.PaysID\n",
    "ORDER BY \"Nombre de clients\" DESC;"
   ]
  },
  {
   "cell_type": "markdown",
   "id": "67b9b780",
   "metadata": {},
   "source": [
    "QUEL MONTANT DE TRANSACTIONS CHAQUE CLIENT REPRESENTE-T-IL PAR AN ?"
   ]
  },
  {
   "cell_type": "code",
   "execution_count": 38,
   "id": "d88fe67a",
   "metadata": {},
   "outputs": [
    {
     "data": {
      "text/html": [
       "<table>\n",
       "    <thead>\n",
       "        <tr>\n",
       "            <th>Année</th>\n",
       "            <th>Client</th>\n",
       "            <th>Transactions Totales</th>\n",
       "        </tr>\n",
       "    </thead>\n",
       "    <tbody>\n",
       "        <tr>\n",
       "            <td>1990</td>\n",
       "            <td>Client8</td>\n",
       "            <td>50000</td>\n",
       "        </tr>\n",
       "        <tr>\n",
       "            <td>1990</td>\n",
       "            <td>Client7</td>\n",
       "            <td>50000</td>\n",
       "        </tr>\n",
       "        <tr>\n",
       "            <td>1990</td>\n",
       "            <td>Client1</td>\n",
       "            <td>40000</td>\n",
       "        </tr>\n",
       "        <tr>\n",
       "            <td>1990</td>\n",
       "            <td>Client2</td>\n",
       "            <td>30000</td>\n",
       "        </tr>\n",
       "        <tr>\n",
       "            <td>1990</td>\n",
       "            <td>Client18</td>\n",
       "            <td>30000</td>\n",
       "        </tr>\n",
       "        <tr>\n",
       "            <td>1990</td>\n",
       "            <td>Client4</td>\n",
       "            <td>20000</td>\n",
       "        </tr>\n",
       "        <tr>\n",
       "            <td>1990</td>\n",
       "            <td>Client15</td>\n",
       "            <td>10000</td>\n",
       "        </tr>\n",
       "        <tr>\n",
       "            <td>1991</td>\n",
       "            <td>Client7</td>\n",
       "            <td>80000</td>\n",
       "        </tr>\n",
       "        <tr>\n",
       "            <td>1991</td>\n",
       "            <td>Client4</td>\n",
       "            <td>70000</td>\n",
       "        </tr>\n",
       "        <tr>\n",
       "            <td>1991</td>\n",
       "            <td>Client8</td>\n",
       "            <td>50000</td>\n",
       "        </tr>\n",
       "    </tbody>\n",
       "</table>\n",
       "<span style=\"font-style:italic;text-align:center;\">Truncated to <a href=\"https://jupysql.ploomber.io/en/latest/api/configuration.html#displaylimit\">displaylimit</a> of 10.</span>"
      ],
      "text/plain": [
       "+-------+----------+----------------------+\n",
       "| Année |  Client  | Transactions Totales |\n",
       "+-------+----------+----------------------+\n",
       "|  1990 | Client8  |        50000         |\n",
       "|  1990 | Client7  |        50000         |\n",
       "|  1990 | Client1  |        40000         |\n",
       "|  1990 | Client2  |        30000         |\n",
       "|  1990 | Client18 |        30000         |\n",
       "|  1990 | Client4  |        20000         |\n",
       "|  1990 | Client15 |        10000         |\n",
       "|  1991 | Client7  |        80000         |\n",
       "|  1991 | Client4  |        70000         |\n",
       "|  1991 | Client8  |        50000         |\n",
       "+-------+----------+----------------------+\n",
       "Truncated to displaylimit of 10."
      ]
     },
     "execution_count": 38,
     "metadata": {},
     "output_type": "execute_result"
    }
   ],
   "source": [
    "%%sql sqlite://\n",
    "\n",
    "SELECT Revenus.Année AS Année, Clients.ClientNom AS Client, SUM(Revenus.Montant) AS \"Transactions Totales\"\n",
    "FROM Revenus\n",
    "JOIN Clients ON Revenus.ClientID = Clients.ClientID\n",
    "GROUP BY Année, Client\n",
    "ORDER BY Année ASC, \"Transactions Totales\" DESC;"
   ]
  },
  {
   "cell_type": "markdown",
   "id": "b003720b",
   "metadata": {},
   "source": [
    "MODIFICATION DE LA TABLE PRODUITS"
   ]
  },
  {
   "cell_type": "code",
   "execution_count": 11,
   "id": "da061a87",
   "metadata": {},
   "outputs": [
    {
     "data": {
      "text/html": [
       "<span style=\"color: green\">1 rows affected.</span>"
      ],
      "text/plain": [
       "1 rows affected."
      ]
     },
     "metadata": {},
     "output_type": "display_data"
    },
    {
     "data": {
      "text/html": [
       "<span style=\"color: green\">1 rows affected.</span>"
      ],
      "text/plain": [
       "1 rows affected."
      ]
     },
     "metadata": {},
     "output_type": "display_data"
    },
    {
     "data": {
      "text/html": [
       "<span style=\"color: green\">1 rows affected.</span>"
      ],
      "text/plain": [
       "1 rows affected."
      ]
     },
     "metadata": {},
     "output_type": "display_data"
    },
    {
     "data": {
      "text/html": [
       "<span style=\"color: green\">1 rows affected.</span>"
      ],
      "text/plain": [
       "1 rows affected."
      ]
     },
     "metadata": {},
     "output_type": "display_data"
    },
    {
     "data": {
      "text/html": [
       "<table>\n",
       "    <thead>\n",
       "        <tr>\n",
       "        </tr>\n",
       "    </thead>\n",
       "    <tbody>\n",
       "    </tbody>\n",
       "</table>"
      ],
      "text/plain": [
       "++\n",
       "||\n",
       "++\n",
       "++"
      ]
     },
     "execution_count": 11,
     "metadata": {},
     "output_type": "execute_result"
    }
   ],
   "source": [
    "%%sql sqlite://\n",
    "\n",
    "ALTER TABLE Produits\n",
    "ADD \"Coût unitaire\" NUMERIC;\n",
    "\n",
    "UPDATE Produits\n",
    "SET \"Coût unitaire\" = 1000 \n",
    "WHERE ProduitID = 1;\n",
    "\n",
    "UPDATE Produits\n",
    "SET \"Coût unitaire\" = 1000 \n",
    "WHERE ProduitID = 2;\n",
    "\n",
    "UPDATE Produits\n",
    "SET \"Coût unitaire\" = 10000 \n",
    "WHERE ProduitID = 3;\n",
    "\n",
    "UPDATE Produits\n",
    "SET \"Coût unitaire\" = 10000 \n",
    "WHERE ProduitID = 4;\n"
   ]
  },
  {
   "cell_type": "markdown",
   "id": "53d564f4",
   "metadata": {},
   "source": [
    "QUEL BENEFICE L'ENTREPRISE A-T-ELLE RECOLTE DE CHAQUE PRODUIT ?"
   ]
  },
  {
   "cell_type": "code",
   "execution_count": 36,
   "id": "4213cd25",
   "metadata": {},
   "outputs": [
    {
     "data": {
      "text/html": [
       "<table>\n",
       "    <thead>\n",
       "        <tr>\n",
       "            <th>Produit</th>\n",
       "            <th>Bénéfice total</th>\n",
       "        </tr>\n",
       "    </thead>\n",
       "    <tbody>\n",
       "        <tr>\n",
       "            <td>Produit1</td>\n",
       "            <td>792200.0</td>\n",
       "        </tr>\n",
       "        <tr>\n",
       "            <td>Produit2</td>\n",
       "            <td>732100.0</td>\n",
       "        </tr>\n",
       "        <tr>\n",
       "            <td>Produit3</td>\n",
       "            <td>46100.0</td>\n",
       "        </tr>\n",
       "        <tr>\n",
       "            <td>Produit4</td>\n",
       "            <td>63800.0</td>\n",
       "        </tr>\n",
       "    </tbody>\n",
       "</table>"
      ],
      "text/plain": [
       "+----------+----------------+\n",
       "| Produit  | Bénéfice total |\n",
       "+----------+----------------+\n",
       "| Produit1 |    792200.0    |\n",
       "| Produit2 |    732100.0    |\n",
       "| Produit3 |    46100.0     |\n",
       "| Produit4 |    63800.0     |\n",
       "+----------+----------------+"
      ]
     },
     "execution_count": 36,
     "metadata": {},
     "output_type": "execute_result"
    }
   ],
   "source": [
    "%%sql sqlite://\n",
    "\n",
    "SELECT Produits.ProduitNom AS \"Produit\", SUM((Revenus.Montant - (Produits.\"Coût unitaire\"*Revenus.Nombre_vendus) - Revenus.Montant*Taxes.Montant_Taxe)) AS \"Bénéfice total\"\n",
    "FROM Produits\n",
    "INNER JOIN Revenus ON Produits.ProduitID = Revenus.ProduitID\n",
    "INNER JOIN Clients ON Revenus.ClientID = Clients.ClientID\n",
    "INNER JOIN Taxes ON Clients.PaysID = Taxes.PaysID\n",
    "GROUP BY \"Produit\"\n",
    "ORDER BY \"Produit\";"
   ]
  },
  {
   "cell_type": "code",
   "execution_count": null,
   "id": "647fa917",
   "metadata": {},
   "outputs": [],
   "source": []
  }
 ],
 "metadata": {
  "kernelspec": {
   "display_name": "Python 3 (ipykernel)",
   "language": "python",
   "name": "python3"
  },
  "language_info": {
   "codemirror_mode": {
    "name": "ipython",
    "version": 3
   },
   "file_extension": ".py",
   "mimetype": "text/x-python",
   "name": "python",
   "nbconvert_exporter": "python",
   "pygments_lexer": "ipython3",
   "version": "3.9.13"
  }
 },
 "nbformat": 4,
 "nbformat_minor": 5
}
